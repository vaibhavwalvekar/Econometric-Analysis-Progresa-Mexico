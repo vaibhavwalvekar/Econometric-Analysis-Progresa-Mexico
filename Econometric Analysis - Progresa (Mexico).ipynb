{
 "cells": [
  {
   "cell_type": "markdown",
   "metadata": {
    "ein.tags": [
     "worksheet-0"
    ],
    "slideshow": {
     "slide_type": "-"
    }
   },
   "source": [
    "# Econometrics - Progresa - Mexico"
   ]
  },
  {
   "cell_type": "markdown",
   "metadata": {
    "ein.tags": [
     "worksheet-0"
    ],
    "slideshow": {
     "slide_type": "-"
    }
   },
   "source": [
    "## Introduction to the Progresa program - Mexico\n",
    "\n",
    "For this analysis, I have used data from the [Progresa program](http://en.wikipedia.org/wiki/Oportunidades), a government social assistance program in Mexico. This program, as well as the details of its impact, are described in the paper \"[School subsidies for the poor: evaluating the Mexican Progresa poverty program](http://www.sciencedirect.com/science/article/pii/S0304387803001858)\", by Paul Shultz (available on Canvas). Please familiarize yourself with the PROGRESA program before beginning this problem set, so you have a rough sense of where the data come from and how they were generated. If you just proceed into the problem set without understanding Progresa or the data, it will be very difficult!\n",
    "\n",
    "The goal of this dataset analysis is to implement some of the basic econometric techniques to measure the impact of Progresa on secondary school enrollment rates. The timeline of the program was:\n",
    "\n",
    " * Baseline survey conducted in 1997\n",
    " * Intervention begins in 1998, \"Wave 1\" of data collected in 1998\n",
    " * \"Wave 2 of data\" collected in 1999\n",
    " * Evaluation ends in 2000, at which point the control villages were treated. \n",
    " \n",
    "The data is present in progresa_sample.csv data. The data are actual data collected to evaluate the impact of the Progresa program.  In this file, each row corresponds to an observation taken for a given child for a given year. There are two years of data (1997 and 1998), and just under 40,000 children who are surveyed in each year. For each child-year observation, the following variables are collected:\n",
    "\n",
    "| Variable name | Description|\n",
    "|---------|---------|\n",
    "|year\t  |year in which data is collected\n",
    "|sex\t  |male = 1|\n",
    "|indig\t  |indigenous = 1|\n",
    "|dist_sec |nearest distance to a secondary school|\n",
    "|sc\t      |enrolled in school in year of survey|\n",
    "|grc      |grade enrolled|\n",
    "|fam_n    |family size|\n",
    "|min_dist |\tmin distance to an urban center|\n",
    "|dist_cap |\tmin distance to the capital|\n",
    "|poor     |\tpoor = 1|\n",
    "|progresa |treatment =1|\n",
    "|hohedu\t  |years of schooling of head of household|\n",
    "|hohwag\t  |monthly wages of head of household|\n",
    "|welfare_index|\twelfare index used to classify poor|\n",
    "|hohsex\t  |gender of head of household (male=1)|\n",
    "|hohage   |age of head of household|\n",
    "|age      |years old|\n",
    "|folnum\t  |individual id|\n",
    "|village  |\tvillage id|\n",
    "|sc97\t  |schooling in 1997|"
   ]
  },
  {
   "cell_type": "markdown",
   "metadata": {
    "ein.tags": [
     "worksheet-0"
    ],
    "slideshow": {
     "slide_type": "-"
    }
   },
   "source": [
    "##Descriptive analysis\n",
    "\n",
    "### \tSummary Statistics"
   ]
  },
  {
   "cell_type": "code",
   "execution_count": 181,
   "metadata": {
    "autoscroll": "json-false",
    "collapsed": false,
    "ein.tags": [
     "worksheet-0"
    ],
    "slideshow": {
     "slide_type": "-"
    }
   },
   "outputs": [],
   "source": [
    "import numpy as np\n",
    "import pandas as pd\n",
    "from scipy.stats import stats\n",
    "import matplotlib.pyplot as plt\n",
    "from statsmodels.formula.api import ols"
   ]
  },
  {
   "cell_type": "code",
   "execution_count": 42,
   "metadata": {
    "collapsed": false
   },
   "outputs": [
    {
     "data": {
      "text/html": [
       "<div>\n",
       "<table border=\"1\" class=\"dataframe\">\n",
       "  <thead>\n",
       "    <tr style=\"text-align: right;\">\n",
       "      <th></th>\n",
       "      <th>index</th>\n",
       "      <th>Mean</th>\n",
       "      <th>Std_dev</th>\n",
       "    </tr>\n",
       "  </thead>\n",
       "  <tbody>\n",
       "    <tr>\n",
       "      <th>13</th>\n",
       "      <td>age</td>\n",
       "      <td>11.366460</td>\n",
       "      <td>3.167744</td>\n",
       "    </tr>\n",
       "    <tr>\n",
       "      <th>7</th>\n",
       "      <td>dist_cap</td>\n",
       "      <td>147.674452</td>\n",
       "      <td>76.063134</td>\n",
       "    </tr>\n",
       "    <tr>\n",
       "      <th>2</th>\n",
       "      <td>dist_sec</td>\n",
       "      <td>2.418910</td>\n",
       "      <td>2.234109</td>\n",
       "    </tr>\n",
       "    <tr>\n",
       "      <th>5</th>\n",
       "      <td>fam_n</td>\n",
       "      <td>7.215715</td>\n",
       "      <td>2.352900</td>\n",
       "    </tr>\n",
       "    <tr>\n",
       "      <th>4</th>\n",
       "      <td>grc</td>\n",
       "      <td>3.963537</td>\n",
       "      <td>2.499063</td>\n",
       "    </tr>\n",
       "    <tr>\n",
       "      <th>14</th>\n",
       "      <td>grc97</td>\n",
       "      <td>3.705372</td>\n",
       "      <td>2.572387</td>\n",
       "    </tr>\n",
       "    <tr>\n",
       "      <th>12</th>\n",
       "      <td>hohage</td>\n",
       "      <td>44.436717</td>\n",
       "      <td>11.620372</td>\n",
       "    </tr>\n",
       "    <tr>\n",
       "      <th>8</th>\n",
       "      <td>hohedu</td>\n",
       "      <td>2.768104</td>\n",
       "      <td>2.656106</td>\n",
       "    </tr>\n",
       "    <tr>\n",
       "      <th>11</th>\n",
       "      <td>hohsex</td>\n",
       "      <td>0.925185</td>\n",
       "      <td>0.263095</td>\n",
       "    </tr>\n",
       "    <tr>\n",
       "      <th>9</th>\n",
       "      <td>hohwag</td>\n",
       "      <td>586.985312</td>\n",
       "      <td>788.133664</td>\n",
       "    </tr>\n",
       "    <tr>\n",
       "      <th>1</th>\n",
       "      <td>indig</td>\n",
       "      <td>0.298324</td>\n",
       "      <td>0.457525</td>\n",
       "    </tr>\n",
       "    <tr>\n",
       "      <th>6</th>\n",
       "      <td>min_dist</td>\n",
       "      <td>103.447520</td>\n",
       "      <td>42.089441</td>\n",
       "    </tr>\n",
       "    <tr>\n",
       "      <th>3</th>\n",
       "      <td>sc</td>\n",
       "      <td>0.819818</td>\n",
       "      <td>0.384342</td>\n",
       "    </tr>\n",
       "    <tr>\n",
       "      <th>15</th>\n",
       "      <td>sc97</td>\n",
       "      <td>0.813922</td>\n",
       "      <td>0.389172</td>\n",
       "    </tr>\n",
       "    <tr>\n",
       "      <th>0</th>\n",
       "      <td>sex</td>\n",
       "      <td>0.512211</td>\n",
       "      <td>0.499854</td>\n",
       "    </tr>\n",
       "    <tr>\n",
       "      <th>10</th>\n",
       "      <td>welfare_index</td>\n",
       "      <td>690.346564</td>\n",
       "      <td>139.491130</td>\n",
       "    </tr>\n",
       "  </tbody>\n",
       "</table>\n",
       "</div>"
      ],
      "text/plain": [
       "            index        Mean     Std_dev\n",
       "13            age   11.366460    3.167744\n",
       "7        dist_cap  147.674452   76.063134\n",
       "2        dist_sec    2.418910    2.234109\n",
       "5           fam_n    7.215715    2.352900\n",
       "4             grc    3.963537    2.499063\n",
       "14          grc97    3.705372    2.572387\n",
       "12         hohage   44.436717   11.620372\n",
       "8          hohedu    2.768104    2.656106\n",
       "11         hohsex    0.925185    0.263095\n",
       "9          hohwag  586.985312  788.133664\n",
       "1           indig    0.298324    0.457525\n",
       "6        min_dist  103.447520   42.089441\n",
       "3              sc    0.819818    0.384342\n",
       "15           sc97    0.813922    0.389172\n",
       "0             sex    0.512211    0.499854\n",
       "10  welfare_index  690.346564  139.491130"
      ]
     },
     "execution_count": 42,
     "metadata": {},
     "output_type": "execute_result"
    }
   ],
   "source": [
    "#Reading progresa csv file\n",
    "progresa_df = pd.read_csv('progresa_sample.csv')\n",
    "\n",
    "#Created new df by removing year, folnum, village columns\n",
    "progresa_df_edited = progresa_df.drop(['year','folnum','village'],axis=1)\n",
    "\n",
    "#Calculating mean and standard deviation and sorting by variable name\n",
    "pd.DataFrame(pd.merge(progresa_df_edited.mean().reset_index(name='Mean'), progresa_df_edited.std().reset_index(name='Std_dev'),on=['index'])).sort_values(by ='index')"
   ]
  },
  {
   "cell_type": "markdown",
   "metadata": {},
   "source": [
    "Above table shows the summary statistics"
   ]
  },
  {
   "cell_type": "markdown",
   "metadata": {
    "ein.tags": [
     "worksheet-0"
    ],
    "slideshow": {
     "slide_type": "-"
    }
   },
   "source": [
    "### Differences at baseline?\n",
    "\n",
    "Are the baseline (1997) demographic characteristics **for the poor**  different in treatment and control villages?"
   ]
  },
  {
   "cell_type": "code",
   "execution_count": 154,
   "metadata": {
    "autoscroll": "json-false",
    "collapsed": false,
    "ein.tags": [
     "worksheet-0"
    ],
    "slideshow": {
     "slide_type": "-"
    }
   },
   "outputs": [
    {
     "data": {
      "text/html": [
       "<div>\n",
       "<table border=\"1\" class=\"dataframe\">\n",
       "  <thead>\n",
       "    <tr style=\"text-align: right;\">\n",
       "      <th></th>\n",
       "      <th>index</th>\n",
       "      <th>Average value (Treatment villages)</th>\n",
       "      <th>Average value (Control villages)</th>\n",
       "      <th>Difference (Treat - Control)</th>\n",
       "      <th>p-value</th>\n",
       "      <th>Statistically_Significant</th>\n",
       "    </tr>\n",
       "  </thead>\n",
       "  <tbody>\n",
       "    <tr>\n",
       "      <th>0</th>\n",
       "      <td>sex</td>\n",
       "      <td>0.519317</td>\n",
       "      <td>0.505052</td>\n",
       "      <td>2.506686</td>\n",
       "      <td>1.219172e-02</td>\n",
       "      <td>TRUE</td>\n",
       "    </tr>\n",
       "    <tr>\n",
       "      <th>1</th>\n",
       "      <td>indig</td>\n",
       "      <td>0.325986</td>\n",
       "      <td>0.332207</td>\n",
       "      <td>-1.161714</td>\n",
       "      <td>2.453603e-01</td>\n",
       "      <td>FALSE</td>\n",
       "    </tr>\n",
       "    <tr>\n",
       "      <th>2</th>\n",
       "      <td>dist_sec</td>\n",
       "      <td>2.453122</td>\n",
       "      <td>2.507662</td>\n",
       "      <td>-2.100433</td>\n",
       "      <td>3.569843e-02</td>\n",
       "      <td>TRUE</td>\n",
       "    </tr>\n",
       "    <tr>\n",
       "      <th>3</th>\n",
       "      <td>sc</td>\n",
       "      <td>0.822697</td>\n",
       "      <td>0.815186</td>\n",
       "      <td>1.668745</td>\n",
       "      <td>9.517806e-02</td>\n",
       "      <td>FALSE</td>\n",
       "    </tr>\n",
       "    <tr>\n",
       "      <th>4</th>\n",
       "      <td>grc</td>\n",
       "      <td>3.531599</td>\n",
       "      <td>3.543050</td>\n",
       "      <td>-0.400196</td>\n",
       "      <td>6.890151e-01</td>\n",
       "      <td>FALSE</td>\n",
       "    </tr>\n",
       "    <tr>\n",
       "      <th>5</th>\n",
       "      <td>fam_n</td>\n",
       "      <td>7.281327</td>\n",
       "      <td>7.302469</td>\n",
       "      <td>-0.794167</td>\n",
       "      <td>4.271039e-01</td>\n",
       "      <td>FALSE</td>\n",
       "    </tr>\n",
       "    <tr>\n",
       "      <th>6</th>\n",
       "      <td>min_dist</td>\n",
       "      <td>107.152915</td>\n",
       "      <td>103.237854</td>\n",
       "      <td>8.206584</td>\n",
       "      <td>2.358312e-16</td>\n",
       "      <td>TRUE</td>\n",
       "    </tr>\n",
       "    <tr>\n",
       "      <th>7</th>\n",
       "      <td>dist_cap</td>\n",
       "      <td>150.829074</td>\n",
       "      <td>153.769730</td>\n",
       "      <td>-3.339081</td>\n",
       "      <td>8.415005e-04</td>\n",
       "      <td>TRUE</td>\n",
       "    </tr>\n",
       "    <tr>\n",
       "      <th>8</th>\n",
       "      <td>hohedu</td>\n",
       "      <td>2.663139</td>\n",
       "      <td>2.590348</td>\n",
       "      <td>2.541229</td>\n",
       "      <td>1.105093e-02</td>\n",
       "      <td>TRUE</td>\n",
       "    </tr>\n",
       "    <tr>\n",
       "      <th>9</th>\n",
       "      <td>hohwag</td>\n",
       "      <td>544.339544</td>\n",
       "      <td>573.163558</td>\n",
       "      <td>-3.594588</td>\n",
       "      <td>3.253835e-04</td>\n",
       "      <td>TRUE</td>\n",
       "    </tr>\n",
       "    <tr>\n",
       "      <th>10</th>\n",
       "      <td>welfare_index</td>\n",
       "      <td>655.428377</td>\n",
       "      <td>659.579100</td>\n",
       "      <td>-3.188594</td>\n",
       "      <td>1.431016e-03</td>\n",
       "      <td>TRUE</td>\n",
       "    </tr>\n",
       "    <tr>\n",
       "      <th>11</th>\n",
       "      <td>hohsex</td>\n",
       "      <td>0.924656</td>\n",
       "      <td>0.922947</td>\n",
       "      <td>0.566312</td>\n",
       "      <td>5.711858e-01</td>\n",
       "      <td>FALSE</td>\n",
       "    </tr>\n",
       "    <tr>\n",
       "      <th>12</th>\n",
       "      <td>hohage</td>\n",
       "      <td>43.648828</td>\n",
       "      <td>44.276918</td>\n",
       "      <td>-4.775962</td>\n",
       "      <td>1.796243e-06</td>\n",
       "      <td>TRUE</td>\n",
       "    </tr>\n",
       "    <tr>\n",
       "      <th>13</th>\n",
       "      <td>age</td>\n",
       "      <td>10.716991</td>\n",
       "      <td>10.742023</td>\n",
       "      <td>-0.708630</td>\n",
       "      <td>4.785594e-01</td>\n",
       "      <td>FALSE</td>\n",
       "    </tr>\n",
       "    <tr>\n",
       "      <th>14</th>\n",
       "      <td>grc97</td>\n",
       "      <td>3.531599</td>\n",
       "      <td>3.543050</td>\n",
       "      <td>-0.400196</td>\n",
       "      <td>6.890151e-01</td>\n",
       "      <td>FALSE</td>\n",
       "    </tr>\n",
       "    <tr>\n",
       "      <th>15</th>\n",
       "      <td>sc97</td>\n",
       "      <td>0.822697</td>\n",
       "      <td>0.815186</td>\n",
       "      <td>1.668745</td>\n",
       "      <td>9.517806e-02</td>\n",
       "      <td>FALSE</td>\n",
       "    </tr>\n",
       "  </tbody>\n",
       "</table>\n",
       "</div>"
      ],
      "text/plain": [
       "            index  Average value (Treatment villages)  \\\n",
       "0             sex                            0.519317   \n",
       "1           indig                            0.325986   \n",
       "2        dist_sec                            2.453122   \n",
       "3              sc                            0.822697   \n",
       "4             grc                            3.531599   \n",
       "5           fam_n                            7.281327   \n",
       "6        min_dist                          107.152915   \n",
       "7        dist_cap                          150.829074   \n",
       "8          hohedu                            2.663139   \n",
       "9          hohwag                          544.339544   \n",
       "10  welfare_index                          655.428377   \n",
       "11         hohsex                            0.924656   \n",
       "12         hohage                           43.648828   \n",
       "13            age                           10.716991   \n",
       "14          grc97                            3.531599   \n",
       "15           sc97                            0.822697   \n",
       "\n",
       "    Average value (Control villages)  Difference (Treat - Control)  \\\n",
       "0                           0.505052                      2.506686   \n",
       "1                           0.332207                     -1.161714   \n",
       "2                           2.507662                     -2.100433   \n",
       "3                           0.815186                      1.668745   \n",
       "4                           3.543050                     -0.400196   \n",
       "5                           7.302469                     -0.794167   \n",
       "6                         103.237854                      8.206584   \n",
       "7                         153.769730                     -3.339081   \n",
       "8                           2.590348                      2.541229   \n",
       "9                         573.163558                     -3.594588   \n",
       "10                        659.579100                     -3.188594   \n",
       "11                          0.922947                      0.566312   \n",
       "12                         44.276918                     -4.775962   \n",
       "13                         10.742023                     -0.708630   \n",
       "14                          3.543050                     -0.400196   \n",
       "15                          0.815186                      1.668745   \n",
       "\n",
       "         p-value Statistically_Significant  \n",
       "0   1.219172e-02                      TRUE  \n",
       "1   2.453603e-01                     FALSE  \n",
       "2   3.569843e-02                      TRUE  \n",
       "3   9.517806e-02                     FALSE  \n",
       "4   6.890151e-01                     FALSE  \n",
       "5   4.271039e-01                     FALSE  \n",
       "6   2.358312e-16                      TRUE  \n",
       "7   8.415005e-04                      TRUE  \n",
       "8   1.105093e-02                      TRUE  \n",
       "9   3.253835e-04                      TRUE  \n",
       "10  1.431016e-03                      TRUE  \n",
       "11  5.711858e-01                     FALSE  \n",
       "12  1.796243e-06                      TRUE  \n",
       "13  4.785594e-01                     FALSE  \n",
       "14  6.890151e-01                     FALSE  \n",
       "15  9.517806e-02                     FALSE  "
      ]
     },
     "execution_count": 154,
     "metadata": {},
     "output_type": "execute_result"
    }
   ],
   "source": [
    "#Filtering \n",
    "progresa_filtered = progresa_df[(progresa_df.poor=='pobre') & (progresa_df.year==97)] \n",
    "\n",
    "#Created new df by removing year, folnum, village columns\n",
    "progresa_df_edited = progresa_filtered.drop(['year','folnum','village'],axis=1)\n",
    "\n",
    "#Calculating mean values for treatment and control set\n",
    "progresa_treatment_control = pd.DataFrame(pd.merge(progresa_df_edited[progresa_df_edited.progresa == 'basal'].mean().reset_index(name='Average value (Treatment villages)'), progresa_df_edited[progresa_df_edited.progresa == '0'].mean().reset_index(name='Average value (Control villages)'),on=['index']))\n",
    "\n",
    "#Creating empty lists to append t value, p value and statistical significancy\n",
    "t_value = []\n",
    "p_value = []\n",
    "stats_significant = []\n",
    "\n",
    "#Iterating over the df to calculate t, p value and statistical significancy\n",
    "for i in list(progresa_treatment_control['index']):\n",
    "          t_value.append(stats.ttest_ind(list(progresa_df_edited[progresa_df_edited.progresa == 'basal'][i]), list(progresa_df_edited[progresa_df_edited.progresa == '0'][i]), nan_policy='omit').statistic)\n",
    "          p_value.append(stats.ttest_ind(progresa_df_edited[progresa_df_edited.progresa == 'basal'][i], progresa_df_edited[progresa_df_edited.progresa == '0'][i], nan_policy='omit').pvalue)\n",
    "          if stats.ttest_ind(progresa_df_edited[progresa_df_edited.progresa == 'basal'][i], progresa_df_edited[progresa_df_edited.progresa == '0'][i], nan_policy='omit').pvalue < 0.05:\n",
    "                stats_significant.append('TRUE')\n",
    "          else: stats_significant.append('FALSE')\n",
    "        \n",
    "# Using the above ccreated list to create 3 columns as needed        \n",
    "progresa_treatment_control['Difference (Treat - Control)'] = t_value   \n",
    "progresa_treatment_control['p-value'] = p_value\n",
    "progresa_treatment_control['Statistically_Significant'] = stats_significant      \n",
    "progresa_treatment_control\n"
   ]
  },
  {
   "cell_type": "markdown",
   "metadata": {
    "ein.tags": [
     "worksheet-0"
    ],
    "slideshow": {
     "slide_type": "-"
    }
   },
   "source": [
    "### Interpretation"
   ]
  },
  {
   "cell_type": "markdown",
   "metadata": {
    "autoscroll": "json-false",
    "collapsed": false,
    "ein.tags": [
     "worksheet-0"
    ],
    "slideshow": {
     "slide_type": "-"
    }
   },
   "source": [
    "A: Statistical significance is defined based on the p-value. If the p-value is less than 0.05 then we can say that \n",
    "there is significant difference between treatment and control villages as baseline. Thus observing the right most column in the above table, we can say that there is significant difference for sex, dist_sec (nearest distance to a secondary school), min_dist (min distance to an urban center), dist_cap (min distance to the capital), hohedu (years of schooling of head of household), hohwag (monthly wages of head of household),hohage (age of head of household), welfare_index (welfare index used to classify poor) variables.\n",
    "\n",
    "B: For any comparison between treatment and control, it is required to have a same baseline so as to gauge the\n",
    "actual effect of the treatment. Thus if treatment and control group are significantly different at baseline then we\n",
    "cant have fully randomized sets for the experiments.\n",
    "\n",
    "C: As there is significant differenc between some of the variables for treatment and control groups, we cannot measure\n",
    "the true impact. Thus some of the othe strategies like double differences should be used to measure the impact."
   ]
  },
  {
   "cell_type": "markdown",
   "metadata": {
    "ein.tags": [
     "worksheet-0"
    ],
    "slideshow": {
     "slide_type": "-"
    }
   },
   "source": [
    "### Graphical exploration"
   ]
  },
  {
   "cell_type": "code",
   "execution_count": 133,
   "metadata": {
    "autoscroll": "json-false",
    "collapsed": false,
    "ein.tags": [
     "worksheet-0"
    ],
    "slideshow": {
     "slide_type": "-"
    }
   },
   "outputs": [
    {
     "data": {
      "image/png": "[encoded data removed]",
      "text/plain": [
       "<matplotlib.figure.Figure at 0x17adff178d0>"
      ]
     },
     "metadata": {},
     "output_type": "display_data"
    }
   ],
   "source": [
    "#Filtering for year 1997\n",
    "progresa_filtered = progresa_df[(progresa_df.year==97) & (progresa_df.sc!=np.nan)] \n",
    "\n",
    "#Grouping by hohedu which indicates household head education\n",
    "#Calculating mean of sc which indicates enrolled in school in year of survey\n",
    "by_hohedu = progresa_filtered.groupby([progresa_filtered.hohedu])['sc'].mean().reset_index(name='Avg_Enrollment_Rate')\n",
    "\n",
    "#plot the data\n",
    "plt.scatter(by_hohedu.hohedu, by_hohedu.Avg_Enrollment_Rate)\n",
    "plt.xlim(-1, 21)\n",
    "plt.ylim(0, 1.5)\n",
    "plt.ylabel('Avg_Enrollment_Rate')\n",
    "plt.xlabel('Household head education')\n",
    "plt.title('Household head education vs. Avg_Enrollment_Rate')\n",
    "plt.show()"
   ]
  },
  {
   "cell_type": "markdown",
   "metadata": {},
   "source": [
    "From the above graphic we can see that as the Household head education level increases the average enrollment rate  increases gradually. But average enrollment rate drastically decreases for the highest level of Household head education."
   ]
  },
  {
   "cell_type": "code",
   "execution_count": 176,
   "metadata": {
    "autoscroll": "json-false",
    "collapsed": false,
    "ein.tags": [
     "worksheet-0"
    ],
    "slideshow": {
     "slide_type": "-"
    }
   },
   "outputs": [
    {
     "data": {
      "image/png": "[encoded data removed]",
      "text/plain": [
       "<matplotlib.figure.Figure at 0x17ae0950048>"
      ]
     },
     "metadata": {},
     "output_type": "display_data"
    },
    {
     "data": {
      "image/png": "[encoded data removed]",
      "text/plain": [
       "<matplotlib.figure.Figure at 0x17ae078f198>"
      ]
     },
     "metadata": {},
     "output_type": "display_data"
    },
    {
     "name": "stdout",
     "output_type": "stream",
     "text": [
      "Mean of Average Enrollment Rate in 1997 0.8138394110596501\n",
      "Mean of Average Enrollment Rate in 1998 0.8295362042630732\n",
      "\n",
      "\n",
      "t statistic :  -2.01571348652\n",
      "pvalue :  0.0442487003657\n"
     ]
    }
   ],
   "source": [
    "#Filtering data based on year, poor and treatment\n",
    "#Grouping by sc to calculate mean of enrollment for each year, poor and treated group only\n",
    "progresa_filtered_97 = progresa_df[(progresa_df.poor=='pobre') & (progresa_df.year==97) & (progresa_df.progresa=='basal')] \n",
    "by_village_97 = progresa_filtered_97.groupby([progresa_filtered_97.village])['sc'].mean().reset_index(name='Avg_Enrollment_Rate_97')\n",
    "\n",
    "progresa_filtered_98 = progresa_df[(progresa_df.poor=='pobre') & (progresa_df.year==98) & (progresa_df.progresa=='basal')] \n",
    "by_village_98 = progresa_filtered_98.groupby([progresa_filtered_98.village])['sc'].mean().reset_index(name='Avg_Enrollment_Rate_98')\n",
    "\n",
    "#Plotting histograms\n",
    "fig = plt.figure()\n",
    "ax0 = plt.hist(by_village_97['Avg_Enrollment_Rate_97'], histtype='bar', color='green')\n",
    "plt.xlabel('Average Enrollment Rate (1997)')\n",
    "plt.ylabel('Count of Villages')\n",
    "plt.title('Histogram - Enrollment Rate for 97')\n",
    "plt.axvline(by_village_97['Avg_Enrollment_Rate_97'].mean(), color='red', linestyle='dashed', linewidth=3)\n",
    "plt.show()\n",
    "\n",
    "fig = plt.figure()\n",
    "ax1 = plt.hist(by_village_98['Avg_Enrollment_Rate_98'], histtype='bar')\n",
    "plt.xlabel('Average Enrollment Rate (1998)')\n",
    "plt.ylabel('Count of Villages')\n",
    "plt.title('Histogram - Enrollment Rate for 98')\n",
    "plt.axvline(by_village_98['Avg_Enrollment_Rate_98'].mean(), color='red', linestyle='dashed', linewidth=3)\n",
    "plt.show()\n",
    "\n",
    "#Calculating means and t, pvalues\n",
    "print ('Mean of Average Enrollment Rate in 1997', by_village_97['Avg_Enrollment_Rate_97'].mean())\n",
    "\n",
    "print ('Mean of Average Enrollment Rate in 1998', by_village_98['Avg_Enrollment_Rate_98'].mean())\n",
    "\n",
    "tvalue = stats.ttest_ind(by_village_97['Avg_Enrollment_Rate_97'],by_village_98['Avg_Enrollment_Rate_98'], nan_policy='omit').statistic\n",
    "pvalue = stats.ttest_ind(by_village_97['Avg_Enrollment_Rate_97'],by_village_98['Avg_Enrollment_Rate_98'], nan_policy='omit').pvalue\n",
    "\n",
    "print('t statistic : ', tvalue)\n",
    "print('pvalue : ', pvalue)"
   ]
  },
  {
   "cell_type": "markdown",
   "metadata": {
    "ein.tags": [
     "worksheet-0"
    ],
    "slideshow": {
     "slide_type": "-"
    }
   },
   "source": [
    "## Measuring Impact\n",
    "\n",
    "### Simple differences: T-test\n",
    "\n",
    "Start out by estimating the impact of Progresa using \"simple differences.\" Restricting yourself to data from 1998 (after treatment)."
   ]
  },
  {
   "cell_type": "code",
   "execution_count": 180,
   "metadata": {
    "autoscroll": "json-false",
    "collapsed": false,
    "ein.tags": [
     "worksheet-0"
    ],
    "slideshow": {
     "slide_type": "-"
    }
   },
   "outputs": [
    {
     "name": "stdout",
     "output_type": "stream",
     "text": [
      "Average enrollment rate among poor households in the Treatment villages  is : 0.846479121395\n",
      "Average enrollment rate among poor households in the Control villages  is : 0.80763695673\n",
      "t statistic :  8.35872056742\n",
      "pvalue :  6.63634444738e-17\n"
     ]
    }
   ],
   "source": [
    "#Filtering for year, poor and progresa\n",
    "progresa_filtered_98_treatment = progresa_df[(progresa_df.poor=='pobre') & (progresa_df.year==98) & (progresa_df.progresa=='basal')] \n",
    "progresa_filtered_98_control = progresa_df[(progresa_df.poor=='pobre') & (progresa_df.year==98) & (progresa_df.progresa=='0')] \n",
    "\n",
    "#Calculating average enrollment rate for treatment and control\n",
    "progresa_treatment_98_avg_sc= progresa_filtered_98_treatment.mean()['sc']\n",
    "progresa_control_98_avg_sc= progresa_filtered_98_control.mean()['sc']\n",
    "\n",
    "print('Average enrollment rate among poor households in the Treatment villages  is :',progresa_treatment_98_avg_sc)\n",
    "print('Average enrollment rate among poor households in the Control villages  is :',progresa_control_98_avg_sc)\n",
    "\n",
    "#Performing t-test\n",
    "tvalue = stats.ttest_ind(progresa_filtered_98_treatment['sc'],progresa_filtered_98_control['sc'], nan_policy='omit').statistic\n",
    "pvalue = stats.ttest_ind(progresa_filtered_98_treatment['sc'],progresa_filtered_98_control['sc'], nan_policy='omit').pvalue\n",
    "\n",
    "print('t statistic : ', tvalue)\n",
    "print('pvalue : ', pvalue)\n"
   ]
  },
  {
   "cell_type": "markdown",
   "metadata": {},
   "source": [
    "Above I have calculated the average enrollment rate for treatment and control for year 1998 and only for poor group of people. The t-test results in a statistically significant p value, which helps us understand that there is a difference between the control and treatment group. Thus we can conclude that progresa has helped increase the enrollment among poor people."
   ]
  },
  {
   "cell_type": "markdown",
   "metadata": {
    "ein.tags": [
     "worksheet-0"
    ],
    "slideshow": {
     "slide_type": "-"
    }
   },
   "source": [
    "### Simple differences: Regression\n",
    "\n",
    "Estimate the effects of Progresa on enrollment using a regression model, by regressing the 1998 enrollment rates **of the poor** on treatment assignment."
   ]
  },
  {
   "cell_type": "code",
   "execution_count": 182,
   "metadata": {
    "autoscroll": "json-false",
    "collapsed": false,
    "ein.tags": [
     "worksheet-0"
    ],
    "slideshow": {
     "slide_type": "-"
    }
   },
   "outputs": [
    {
     "data": {
      "text/html": [
       "<table class=\"simpletable\">\n",
       "<caption>OLS Regression Results</caption>\n",
       "<tr>\n",
       "  <th>Dep. Variable:</th>           <td>sc</td>        <th>  R-squared:         </th> <td>   0.003</td> \n",
       "</tr>\n",
       "<tr>\n",
       "  <th>Model:</th>                   <td>OLS</td>       <th>  Adj. R-squared:    </th> <td>   0.003</td> \n",
       "</tr>\n",
       "<tr>\n",
       "  <th>Method:</th>             <td>Least Squares</td>  <th>  F-statistic:       </th> <td>   69.87</td> \n",
       "</tr>\n",
       "<tr>\n",
       "  <th>Date:</th>             <td>Wed, 25 Jan 2017</td> <th>  Prob (F-statistic):</th> <td>6.64e-17</td> \n",
       "</tr>\n",
       "<tr>\n",
       "  <th>Time:</th>                 <td>13:38:22</td>     <th>  Log-Likelihood:    </th> <td> -11926.</td> \n",
       "</tr>\n",
       "<tr>\n",
       "  <th>No. Observations:</th>      <td> 27450</td>      <th>  AIC:               </th> <td>2.386e+04</td>\n",
       "</tr>\n",
       "<tr>\n",
       "  <th>Df Residuals:</th>          <td> 27448</td>      <th>  BIC:               </th> <td>2.387e+04</td>\n",
       "</tr>\n",
       "<tr>\n",
       "  <th>Df Model:</th>              <td>     1</td>      <th>                     </th>     <td> </td>    \n",
       "</tr>\n",
       "<tr>\n",
       "  <th>Covariance Type:</th>      <td>nonrobust</td>    <th>                     </th>     <td> </td>    \n",
       "</tr>\n",
       "</table>\n",
       "<table class=\"simpletable\">\n",
       "<tr>\n",
       "          <td></td>             <th>coef</th>     <th>std err</th>      <th>t</th>      <th>P>|t|</th> <th>[95.0% Conf. Int.]</th> \n",
       "</tr>\n",
       "<tr>\n",
       "  <th>Intercept</th>         <td>    0.8076</td> <td>    0.004</td> <td>  220.676</td> <td> 0.000</td> <td>    0.800     0.815</td>\n",
       "</tr>\n",
       "<tr>\n",
       "  <th>progresa[T.basal]</th> <td>    0.0388</td> <td>    0.005</td> <td>    8.359</td> <td> 0.000</td> <td>    0.030     0.048</td>\n",
       "</tr>\n",
       "</table>\n",
       "<table class=\"simpletable\">\n",
       "<tr>\n",
       "  <th>Omnibus:</th>       <td>7638.939</td> <th>  Durbin-Watson:     </th> <td>   1.734</td> \n",
       "</tr>\n",
       "<tr>\n",
       "  <th>Prob(Omnibus):</th>  <td> 0.000</td>  <th>  Jarque-Bera (JB):  </th> <td>15767.534</td>\n",
       "</tr>\n",
       "<tr>\n",
       "  <th>Skew:</th>           <td>-1.767</td>  <th>  Prob(JB):          </th> <td>    0.00</td> \n",
       "</tr>\n",
       "<tr>\n",
       "  <th>Kurtosis:</th>       <td> 4.140</td>  <th>  Cond. No.          </th> <td>    3.01</td> \n",
       "</tr>\n",
       "</table>"
      ],
      "text/plain": [
       "<class 'statsmodels.iolib.summary.Summary'>\n",
       "\"\"\"\n",
       "                            OLS Regression Results                            \n",
       "==============================================================================\n",
       "Dep. Variable:                     sc   R-squared:                       0.003\n",
       "Model:                            OLS   Adj. R-squared:                  0.003\n",
       "Method:                 Least Squares   F-statistic:                     69.87\n",
       "Date:                Wed, 25 Jan 2017   Prob (F-statistic):           6.64e-17\n",
       "Time:                        13:38:22   Log-Likelihood:                -11926.\n",
       "No. Observations:               27450   AIC:                         2.386e+04\n",
       "Df Residuals:                   27448   BIC:                         2.387e+04\n",
       "Df Model:                           1                                         \n",
       "Covariance Type:            nonrobust                                         \n",
       "=====================================================================================\n",
       "                        coef    std err          t      P>|t|      [95.0% Conf. Int.]\n",
       "-------------------------------------------------------------------------------------\n",
       "Intercept             0.8076      0.004    220.676      0.000         0.800     0.815\n",
       "progresa[T.basal]     0.0388      0.005      8.359      0.000         0.030     0.048\n",
       "==============================================================================\n",
       "Omnibus:                     7638.939   Durbin-Watson:                   1.734\n",
       "Prob(Omnibus):                  0.000   Jarque-Bera (JB):            15767.534\n",
       "Skew:                          -1.767   Prob(JB):                         0.00\n",
       "Kurtosis:                       4.140   Cond. No.                         3.01\n",
       "==============================================================================\n",
       "\n",
       "Warnings:\n",
       "[1] Standard Errors assume that the covariance matrix of the errors is correctly specified.\n",
       "\"\"\""
      ]
     },
     "execution_count": 182,
     "metadata": {},
     "output_type": "execute_result"
    }
   ],
   "source": [
    "#Filtering based on poor and for year 98\n",
    "progresa_filtered_98_poor = progresa_df[(progresa_df.poor=='pobre') & (progresa_df.year==98)]\n",
    "\n",
    "#Linear model\n",
    "lm_fit= ols(formula='sc ~ progresa', data=progresa_filtered_98_poor).fit()\n",
    "\n",
    "#Summary of the fitted model\n",
    "lm_fit.summary()"
   ]
  },
  {
   "cell_type": "markdown",
   "metadata": {},
   "source": [
    "1. Based on this model, how much did Progresa increase the likelihood of a child enrolling?\n",
    "The coefficient of progresa variable is 0.0388, which means, for a unit increase in progresa, the enrollment would increase by 0.0388 percent. A unit increase in progresa would mean enrollment, thus we can say Progresa increased the liklihood of a child enrolling by 0.0388%.\n",
    "\n",
    "2. How does your regression estimate compare to your t-test estimate from above?\n",
    "The t-test estimate from 2.1 is in sync with regression model. This can be concluded from the regression value calculated for the above model : 0.8076 + 1* 0.0388 = 0.8464, which is also the Average enrollment rate among poor households in the Treatment villages. Considering for control group, we would get a regression value of 0.8076, which is Average enrollment rate among poor households in the Control villages.\n",
    "\n",
    "3. Based on this regression model, can we reject the null hypothesis that the treatment effects are zero? \n",
    "Yes, we can reject the null hypothesis as the pvalue for the intercept is lesser than 0.05. Thus treatment has made an effect on the enrollment.\n",
    "\n",
    "4. What is the counterfactual assumption underlying this regression?\n",
    "The counterfactual assumption underlying this regression is that if there was no treatment, such change couldnt have been observed and the average enrollment rate for treated and control villages would remain same."
   ]
  },
  {
   "cell_type": "markdown",
   "metadata": {
    "ein.tags": [
     "worksheet-0"
    ],
    "slideshow": {
     "slide_type": "-"
    }
   },
   "source": [
    "### Multiple Regression\n",
    "\n",
    "Re-run the above regression estimated but this time include a set of control variables. Include, for instance, age, distance to a secondary school, gender, education of household head, indigenous, etc."
   ]
  },
  {
   "cell_type": "code",
   "execution_count": 183,
   "metadata": {
    "autoscroll": "json-false",
    "collapsed": false,
    "ein.tags": [
     "worksheet-0"
    ],
    "slideshow": {
     "slide_type": "-"
    }
   },
   "outputs": [
    {
     "data": {
      "text/html": [
       "<table class=\"simpletable\">\n",
       "<caption>OLS Regression Results</caption>\n",
       "<tr>\n",
       "  <th>Dep. Variable:</th>           <td>sc</td>        <th>  R-squared:         </th> <td>   0.267</td> \n",
       "</tr>\n",
       "<tr>\n",
       "  <th>Model:</th>                   <td>OLS</td>       <th>  Adj. R-squared:    </th> <td>   0.267</td> \n",
       "</tr>\n",
       "<tr>\n",
       "  <th>Method:</th>             <td>Least Squares</td>  <th>  F-statistic:       </th> <td>   903.0</td> \n",
       "</tr>\n",
       "<tr>\n",
       "  <th>Date:</th>             <td>Wed, 25 Jan 2017</td> <th>  Prob (F-statistic):</th>  <td>  0.00</td>  \n",
       "</tr>\n",
       "<tr>\n",
       "  <th>Time:</th>                 <td>18:39:26</td>     <th>  Log-Likelihood:    </th> <td> -7634.1</td> \n",
       "</tr>\n",
       "<tr>\n",
       "  <th>No. Observations:</th>      <td> 27260</td>      <th>  AIC:               </th> <td>1.529e+04</td>\n",
       "</tr>\n",
       "<tr>\n",
       "  <th>Df Residuals:</th>          <td> 27248</td>      <th>  BIC:               </th> <td>1.539e+04</td>\n",
       "</tr>\n",
       "<tr>\n",
       "  <th>Df Model:</th>              <td>    11</td>      <th>                     </th>     <td> </td>    \n",
       "</tr>\n",
       "<tr>\n",
       "  <th>Covariance Type:</th>      <td>nonrobust</td>    <th>                     </th>     <td> </td>    \n",
       "</tr>\n",
       "</table>\n",
       "<table class=\"simpletable\">\n",
       "<tr>\n",
       "          <td></td>             <th>coef</th>     <th>std err</th>      <th>t</th>      <th>P>|t|</th> <th>[95.0% Conf. Int.]</th> \n",
       "</tr>\n",
       "<tr>\n",
       "  <th>Intercept</th>         <td>    1.4868</td> <td>    0.019</td> <td>   79.742</td> <td> 0.000</td> <td>    1.450     1.523</td>\n",
       "</tr>\n",
       "<tr>\n",
       "  <th>progresa[T.basal]</th> <td>    0.0353</td> <td>    0.004</td> <td>    8.804</td> <td> 0.000</td> <td>    0.027     0.043</td>\n",
       "</tr>\n",
       "<tr>\n",
       "  <th>age</th>               <td>   -0.0656</td> <td>    0.001</td> <td>  -94.281</td> <td> 0.000</td> <td>   -0.067    -0.064</td>\n",
       "</tr>\n",
       "<tr>\n",
       "  <th>indig</th>             <td>    0.0464</td> <td>    0.004</td> <td>   11.115</td> <td> 0.000</td> <td>    0.038     0.055</td>\n",
       "</tr>\n",
       "<tr>\n",
       "  <th>dist_sec</th>          <td>   -0.0117</td> <td>    0.001</td> <td>  -13.240</td> <td> 0.000</td> <td>   -0.013    -0.010</td>\n",
       "</tr>\n",
       "<tr>\n",
       "  <th>sex</th>               <td>    0.0309</td> <td>    0.004</td> <td>    7.957</td> <td> 0.000</td> <td>    0.023     0.039</td>\n",
       "</tr>\n",
       "<tr>\n",
       "  <th>hohedu</th>            <td>    0.0088</td> <td>    0.001</td> <td>   10.328</td> <td> 0.000</td> <td>    0.007     0.011</td>\n",
       "</tr>\n",
       "<tr>\n",
       "  <th>welfare_index</th>     <td>   2.8e-05</td> <td> 1.83e-05</td> <td>    1.532</td> <td> 0.126</td> <td>-7.83e-06  6.38e-05</td>\n",
       "</tr>\n",
       "<tr>\n",
       "  <th>fam_n</th>             <td>   -0.0003</td> <td>    0.001</td> <td>   -0.381</td> <td> 0.703</td> <td>   -0.002     0.001</td>\n",
       "</tr>\n",
       "<tr>\n",
       "  <th>hohwag</th>            <td>-1.111e-06</td> <td> 2.84e-06</td> <td>   -0.392</td> <td> 0.695</td> <td>-6.67e-06  4.45e-06</td>\n",
       "</tr>\n",
       "<tr>\n",
       "  <th>hohsex</th>            <td>    0.0124</td> <td>    0.008</td> <td>    1.592</td> <td> 0.111</td> <td>   -0.003     0.028</td>\n",
       "</tr>\n",
       "<tr>\n",
       "  <th>hohage</th>            <td>    0.0002</td> <td>    0.000</td> <td>    1.193</td> <td> 0.233</td> <td>   -0.000     0.001</td>\n",
       "</tr>\n",
       "</table>\n",
       "<table class=\"simpletable\">\n",
       "<tr>\n",
       "  <th>Omnibus:</th>       <td>2993.509</td> <th>  Durbin-Watson:     </th> <td>   1.718</td>\n",
       "</tr>\n",
       "<tr>\n",
       "  <th>Prob(Omnibus):</th>  <td> 0.000</td>  <th>  Jarque-Bera (JB):  </th> <td>4084.933</td>\n",
       "</tr>\n",
       "<tr>\n",
       "  <th>Skew:</th>           <td>-0.940</td>  <th>  Prob(JB):          </th> <td>    0.00</td>\n",
       "</tr>\n",
       "<tr>\n",
       "  <th>Kurtosis:</th>       <td> 3.248</td>  <th>  Cond. No.          </th> <td>9.95e+03</td>\n",
       "</tr>\n",
       "</table>"
      ],
      "text/plain": [
       "<class 'statsmodels.iolib.summary.Summary'>\n",
       "\"\"\"\n",
       "                            OLS Regression Results                            \n",
       "==============================================================================\n",
       "Dep. Variable:                     sc   R-squared:                       0.267\n",
       "Model:                            OLS   Adj. R-squared:                  0.267\n",
       "Method:                 Least Squares   F-statistic:                     903.0\n",
       "Date:                Wed, 25 Jan 2017   Prob (F-statistic):               0.00\n",
       "Time:                        18:39:26   Log-Likelihood:                -7634.1\n",
       "No. Observations:               27260   AIC:                         1.529e+04\n",
       "Df Residuals:                   27248   BIC:                         1.539e+04\n",
       "Df Model:                          11                                         \n",
       "Covariance Type:            nonrobust                                         \n",
       "=====================================================================================\n",
       "                        coef    std err          t      P>|t|      [95.0% Conf. Int.]\n",
       "-------------------------------------------------------------------------------------\n",
       "Intercept             1.4868      0.019     79.742      0.000         1.450     1.523\n",
       "progresa[T.basal]     0.0353      0.004      8.804      0.000         0.027     0.043\n",
       "age                  -0.0656      0.001    -94.281      0.000        -0.067    -0.064\n",
       "indig                 0.0464      0.004     11.115      0.000         0.038     0.055\n",
       "dist_sec             -0.0117      0.001    -13.240      0.000        -0.013    -0.010\n",
       "sex                   0.0309      0.004      7.957      0.000         0.023     0.039\n",
       "hohedu                0.0088      0.001     10.328      0.000         0.007     0.011\n",
       "welfare_index        2.8e-05   1.83e-05      1.532      0.126     -7.83e-06  6.38e-05\n",
       "fam_n                -0.0003      0.001     -0.381      0.703        -0.002     0.001\n",
       "hohwag            -1.111e-06   2.84e-06     -0.392      0.695     -6.67e-06  4.45e-06\n",
       "hohsex                0.0124      0.008      1.592      0.111        -0.003     0.028\n",
       "hohage                0.0002      0.000      1.193      0.233        -0.000     0.001\n",
       "==============================================================================\n",
       "Omnibus:                     2993.509   Durbin-Watson:                   1.718\n",
       "Prob(Omnibus):                  0.000   Jarque-Bera (JB):             4084.933\n",
       "Skew:                          -0.940   Prob(JB):                         0.00\n",
       "Kurtosis:                       3.248   Cond. No.                     9.95e+03\n",
       "==============================================================================\n",
       "\n",
       "Warnings:\n",
       "[1] Standard Errors assume that the covariance matrix of the errors is correctly specified.\n",
       "[2] The condition number is large, 9.95e+03. This might indicate that there are\n",
       "strong multicollinearity or other numerical problems.\n",
       "\"\"\""
      ]
     },
     "execution_count": 183,
     "metadata": {},
     "output_type": "execute_result"
    }
   ],
   "source": [
    "#Multiple Linear model\n",
    "lm_fit2= ols(formula='sc ~ age + progresa + indig + dist_sec + sex + hohedu + welfare_index + fam_n + hohwag + hohsex + hohage', data=progresa_filtered_98_poor).fit()\n",
    "\n",
    "#Summary of the fitted model\n",
    "lm_fit2.summary()"
   ]
  },
  {
   "cell_type": "markdown",
   "metadata": {},
   "source": [
    "1. How do the controls affect the point estimate of treatment effect?\n",
    "Adding the control variables hasnt affected the treatment effect. The coefficient of progresa variable hasnt changed much from (0.0388 to 0.0353) and also its p value is still statistically significant. Thus the treatment of providing subsidy to poor children has increased the enrollment rate. Some of the other control variables also have a statistically significant value thus having an affect on the treatment. We can also see that the intercept value has increased considerably.\n",
    "\n",
    "2. How do the controls affect the standard error on the treatment effect? \n",
    "After adding the control variables, the standard error for treament has reduced from 0.005 to 0.004. Thus we can conlcude that introduction of new control variables has improved the model accuracy.\n"
   ]
  },
  {
   "cell_type": "markdown",
   "metadata": {
    "ein.tags": [
     "worksheet-0"
    ],
    "slideshow": {
     "slide_type": "-"
    }
   },
   "source": [
    "### Difference-in-Difference, version 1 (tabular)\n",
    "\n",
    "Thus far, we have computed the effects of Progresa by estimating the difference in 1998 enrollment rates across villages. An alternative approach would be to compute the treatment effect using a difference-in-differences framework.\n",
    "\n",
    "Begin by estimating the average treatment effects of the program for poor households using data from 1997 and 1998. Specifically, calculate the difference (between 1997 and 1998) in enrollment rates among poor households in treated villages; then compute the difference (between 1997 and 1998) in enrollment rates among poor households in treated villages. The difference between these two differences is your estimate.\n"
   ]
  },
  {
   "cell_type": "code",
   "execution_count": 188,
   "metadata": {
    "autoscroll": "json-false",
    "collapsed": false,
    "ein.tags": [
     "worksheet-0"
    ],
    "slideshow": {
     "slide_type": "-"
    }
   },
   "outputs": [
    {
     "name": "stdout",
     "output_type": "stream",
     "text": [
      "The average of enrollment rate in Treated villages in 97:  0.846479121395\n",
      "The average of enrollment rate in Treated villages in 98:  0.822696887403\n",
      "The difference in the average of enrollment rate in Treated villages is :  0.023782233992\n",
      "\n",
      "\n",
      "The average of enrollment rate in Control villages in 97:  0.80763695673\n",
      "The average of enrollment rate in Control villages in 98:  0.815186003058\n",
      "The difference in the average of enrollment rate in Control villages is :  -0.00754904632728\n",
      "\n",
      "\n",
      "The difference of difference in the average of enrollment rate is:  0.0313312803193\n"
     ]
    }
   ],
   "source": [
    "#Filtering for year , poor and progresa\n",
    "progresa_filtered_97_treatment = progresa_df[(progresa_df.poor=='pobre') & (progresa_df.year==97) & (progresa_df.progresa=='basal')] \n",
    "progresa_filtered_97_control = progresa_df[(progresa_df.poor=='pobre') & (progresa_df.year==97) & (progresa_df.progresa=='0')] \n",
    "\n",
    "progresa_filtered_98_treatment = progresa_df[(progresa_df.poor=='pobre') & (progresa_df.year==98) & (progresa_df.progresa=='basal')] \n",
    "progresa_filtered_98_control = progresa_df[(progresa_df.poor=='pobre') & (progresa_df.year==98) & (progresa_df.progresa=='0')] \n",
    "\n",
    "#Calculating means\n",
    "mean_treatment_98 = progresa_filtered_98_treatment.mean()['sc']\n",
    "mean_treatment_97 = progresa_filtered_97_treatment.mean()['sc']\n",
    "diff_treatment = mean_treatment_98 - mean_treatment_97\n",
    "\n",
    "mean_control_98 = progresa_filtered_98_control.mean()['sc']\n",
    "mean_control_97 = progresa_filtered_97_control.mean()['sc']\n",
    "diff_control = mean_control_98 - mean_control_97\n",
    "\n",
    "print ('The average of enrollment rate in Treated villages in 97: ', mean_treatment_98)\n",
    "print ('The average of enrollment rate in Treated villages in 98: ', mean_treatment_97)\n",
    "print ('The difference in the average of enrollment rate in Treated villages is : ', diff_treatment)\n",
    "\n",
    "print('\\n')\n",
    "\n",
    "print ('The average of enrollment rate in Control villages in 97: ', mean_control_98)\n",
    "print ('The average of enrollment rate in Control villages in 98: ', mean_control_97)\n",
    "print ('The difference in the average of enrollment rate in Control villages is : ', diff_control)\n",
    "print('\\n')\n",
    "\n",
    "#Calculating difference of difference\n",
    "diff = diff_treatment - diff_control\n",
    "print ('The difference of difference in the average enrollment rate is: ', diff)"
   ]
  },
  {
   "cell_type": "markdown",
   "metadata": {},
   "source": [
    "1. As described above, I have implemented the difference in difference framework according to which the difference between the differences of the treated and control villages for year 98 and 97 gives the estimate. Thus the estimate is 0.0313.\n",
    "This estimate is lesser than the estimate we got through simple linear regression 0.388 and multiple linear regression 0.0353.\n",
    "\n",
    "2. The counterfactual assumption underlying this estimate is that if there was no treatment, we couldnt have observed difference between the average enrollment rates for treatment and control."
   ]
  },
  {
   "cell_type": "markdown",
   "metadata": {
    "ein.tags": [
     "worksheet-0"
    ],
    "slideshow": {
     "slide_type": "-"
    }
   },
   "source": [
    "### Difference-in-Difference, version 1 (regression)\n",
    "\n",
    "Now use a regression specification to estimate the average treatment effect of the program (on the poor) in a difference-in-differences framework. Include at least 5 control variables. "
   ]
  },
  {
   "cell_type": "code",
   "execution_count": 207,
   "metadata": {
    "autoscroll": "json-false",
    "collapsed": false,
    "ein.tags": [
     "worksheet-0"
    ],
    "slideshow": {
     "slide_type": "-"
    }
   },
   "outputs": [
    {
     "data": {
      "text/html": [
       "<table class=\"simpletable\">\n",
       "<caption>OLS Regression Results</caption>\n",
       "<tr>\n",
       "  <th>Dep. Variable:</th>           <td>sc</td>        <th>  R-squared:         </th> <td>   0.279</td> \n",
       "</tr>\n",
       "<tr>\n",
       "  <th>Model:</th>                   <td>OLS</td>       <th>  Adj. R-squared:    </th> <td>   0.279</td> \n",
       "</tr>\n",
       "<tr>\n",
       "  <th>Method:</th>             <td>Least Squares</td>  <th>  F-statistic:       </th> <td>   2810.</td> \n",
       "</tr>\n",
       "<tr>\n",
       "  <th>Date:</th>             <td>Wed, 25 Jan 2017</td> <th>  Prob (F-statistic):</th>  <td>  0.00</td>  \n",
       "</tr>\n",
       "<tr>\n",
       "  <th>Time:</th>                 <td>21:41:47</td>     <th>  Log-Likelihood:    </th> <td> -16717.</td> \n",
       "</tr>\n",
       "<tr>\n",
       "  <th>No. Observations:</th>      <td> 58165</td>      <th>  AIC:               </th> <td>3.345e+04</td>\n",
       "</tr>\n",
       "<tr>\n",
       "  <th>Df Residuals:</th>          <td> 58156</td>      <th>  BIC:               </th> <td>3.353e+04</td>\n",
       "</tr>\n",
       "<tr>\n",
       "  <th>Df Model:</th>              <td>     8</td>      <th>                     </th>     <td> </td>    \n",
       "</tr>\n",
       "<tr>\n",
       "  <th>Covariance Type:</th>      <td>nonrobust</td>    <th>                     </th>     <td> </td>    \n",
       "</tr>\n",
       "</table>\n",
       "<table class=\"simpletable\">\n",
       "<tr>\n",
       "             <td></td>               <th>coef</th>     <th>std err</th>      <th>t</th>      <th>P>|t|</th> <th>[95.0% Conf. Int.]</th> \n",
       "</tr>\n",
       "<tr>\n",
       "  <th>Intercept</th>              <td>    1.4940</td> <td>    0.006</td> <td>  231.606</td> <td> 0.000</td> <td>    1.481     1.507</td>\n",
       "</tr>\n",
       "<tr>\n",
       "  <th>progresa[T.basal]</th>      <td>    0.0043</td> <td>    0.004</td> <td>    1.137</td> <td> 0.256</td> <td>   -0.003     0.012</td>\n",
       "</tr>\n",
       "<tr>\n",
       "  <th>time</th>                   <td>    0.0270</td> <td>    0.004</td> <td>    6.204</td> <td> 0.000</td> <td>    0.018     0.036</td>\n",
       "</tr>\n",
       "<tr>\n",
       "  <th>progresa[T.basal]:time</th> <td>    0.0314</td> <td>    0.006</td> <td>    5.685</td> <td> 0.000</td> <td>    0.021     0.042</td>\n",
       "</tr>\n",
       "<tr>\n",
       "  <th>age</th>                    <td>   -0.0655</td> <td>    0.000</td> <td> -144.433</td> <td> 0.000</td> <td>   -0.066    -0.065</td>\n",
       "</tr>\n",
       "<tr>\n",
       "  <th>indig</th>                  <td>    0.0496</td> <td>    0.003</td> <td>   17.304</td> <td> 0.000</td> <td>    0.044     0.055</td>\n",
       "</tr>\n",
       "<tr>\n",
       "  <th>dist_sec</th>               <td>   -0.0110</td> <td>    0.001</td> <td>  -17.788</td> <td> 0.000</td> <td>   -0.012    -0.010</td>\n",
       "</tr>\n",
       "<tr>\n",
       "  <th>sex</th>                    <td>    0.0339</td> <td>    0.003</td> <td>   12.672</td> <td> 0.000</td> <td>    0.029     0.039</td>\n",
       "</tr>\n",
       "<tr>\n",
       "  <th>hohedu</th>                 <td>    0.0076</td> <td>    0.001</td> <td>   14.110</td> <td> 0.000</td> <td>    0.007     0.009</td>\n",
       "</tr>\n",
       "</table>\n",
       "<table class=\"simpletable\">\n",
       "<tr>\n",
       "  <th>Omnibus:</th>       <td>5523.777</td> <th>  Durbin-Watson:     </th> <td>   1.484</td>\n",
       "</tr>\n",
       "<tr>\n",
       "  <th>Prob(Omnibus):</th>  <td> 0.000</td>  <th>  Jarque-Bera (JB):  </th> <td>7269.312</td>\n",
       "</tr>\n",
       "<tr>\n",
       "  <th>Skew:</th>           <td>-0.864</td>  <th>  Prob(JB):          </th> <td>    0.00</td>\n",
       "</tr>\n",
       "<tr>\n",
       "  <th>Kurtosis:</th>       <td> 3.113</td>  <th>  Cond. No.          </th> <td>    70.8</td>\n",
       "</tr>\n",
       "</table>"
      ],
      "text/plain": [
       "<class 'statsmodels.iolib.summary.Summary'>\n",
       "\"\"\"\n",
       "                            OLS Regression Results                            \n",
       "==============================================================================\n",
       "Dep. Variable:                     sc   R-squared:                       0.279\n",
       "Model:                            OLS   Adj. R-squared:                  0.279\n",
       "Method:                 Least Squares   F-statistic:                     2810.\n",
       "Date:                Wed, 25 Jan 2017   Prob (F-statistic):               0.00\n",
       "Time:                        21:41:47   Log-Likelihood:                -16717.\n",
       "No. Observations:               58165   AIC:                         3.345e+04\n",
       "Df Residuals:                   58156   BIC:                         3.353e+04\n",
       "Df Model:                           8                                         \n",
       "Covariance Type:            nonrobust                                         \n",
       "==========================================================================================\n",
       "                             coef    std err          t      P>|t|      [95.0% Conf. Int.]\n",
       "------------------------------------------------------------------------------------------\n",
       "Intercept                  1.4940      0.006    231.606      0.000         1.481     1.507\n",
       "progresa[T.basal]          0.0043      0.004      1.137      0.256        -0.003     0.012\n",
       "time                       0.0270      0.004      6.204      0.000         0.018     0.036\n",
       "progresa[T.basal]:time     0.0314      0.006      5.685      0.000         0.021     0.042\n",
       "age                       -0.0655      0.000   -144.433      0.000        -0.066    -0.065\n",
       "indig                      0.0496      0.003     17.304      0.000         0.044     0.055\n",
       "dist_sec                  -0.0110      0.001    -17.788      0.000        -0.012    -0.010\n",
       "sex                        0.0339      0.003     12.672      0.000         0.029     0.039\n",
       "hohedu                     0.0076      0.001     14.110      0.000         0.007     0.009\n",
       "==============================================================================\n",
       "Omnibus:                     5523.777   Durbin-Watson:                   1.484\n",
       "Prob(Omnibus):                  0.000   Jarque-Bera (JB):             7269.312\n",
       "Skew:                          -0.864   Prob(JB):                         0.00\n",
       "Kurtosis:                       3.113   Cond. No.                         70.8\n",
       "==============================================================================\n",
       "\n",
       "Warnings:\n",
       "[1] Standard Errors assume that the covariance matrix of the errors is correctly specified.\n",
       "\"\"\""
      ]
     },
     "execution_count": 207,
     "metadata": {},
     "output_type": "execute_result"
    }
   ],
   "source": [
    "#Converting poor to a  binary variable form\n",
    "progresa_df.loc[progresa_df['poor'] == 'pobre', 'poor'] = 1\n",
    "progresa_df.loc[progresa_df['poor'] ==  'no pobre', 'poor'] = 0\n",
    "\n",
    "#Creating a binary variable for time\n",
    "progresa_df.loc[progresa_df.year == 97, 'time'] = 0\n",
    "progresa_df.loc[progresa_df.year == 98, 'time'] = 1\n",
    "\n",
    "#Filtering for poor group\n",
    "progresa_df_poor = progresa_df[(progresa_df.poor==1)]\n",
    "\n",
    "#Regression with progresa, post, progresa*time(interaction) and 5 control variables\n",
    "lm_fit3 = ols(formula='sc ~ progresa + time + progresa*time + age + indig + dist_sec + sex + hohedu', data=progresa_df_poor).fit()\n",
    "\n",
    "#Summary\n",
    "lm_fit3.summary()"
   ]
  },
  {
   "cell_type": "markdown",
   "metadata": {},
   "source": [
    "1. What is your estimate of the impact of Progresa? Be very specific in interpreting your coefficients and standard errors, and make sure to specify exactly what units you are measuring and estimating.\n",
    "We firstly create a binary variable for year, which is necssary according to difference in difference approach, control variable has to be binary. Next, we take into consideration the interaction between the treatment term and the year. \n",
    "Interpretting \"progresa:time\" interaction coefficient: For families in year 1998 being subjected to the progresa subsidy program, the average enrollment rates would be 0.0314 higher.\n",
    "Interpretting \"time\" term: For the year 1998, the average enrollment rate is higher by 0.0270.\n",
    "The progresa coefficient has the value 0.0043 but it is no longer statistically significant.\n",
    "\n",
    "2. How do these estimates of the treatment effect compare to the estimates based on the simple difference?\n",
    "The impact estimation of the difference in difference model is lower than that of simple difference. We can say that estimate through difference in difference approach are more accurate than simple difference because control and treatment  variables are considered together with the introduction of interaction term where as they are considered in silos for simple difference method.\n",
    "\n",
    "3. How do these estimates compare to the difference-in-difference estimates from above? What accounts for these differences?\n",
    "We can see that the impact of 2.4 is almost similar to what we see in this question. Introduction of time and its interaction with progresa treatment causes the impact to be measured by a sum of 3 variables, though in 2.4 it was not the case. Additionally, there can be some differences by introduction of control variables.\n",
    "\n",
    "4. What is the counterfactual assumption underlying this regression? \n",
    "The counterfactual assumption is that the trends in treatment group and control group would have been the same in the absence of treatment."
   ]
  },
  {
   "cell_type": "markdown",
   "metadata": {
    "ein.tags": [
     "worksheet-0"
    ],
    "slideshow": {
     "slide_type": "-"
    }
   },
   "source": [
    "### Difference-in-Difference, version 2\n",
    "\n",
    "In the previous problem, you estimated a difference-in-differences model that compared changes in enrollment rates over time across treatment and control villages. An alternative approach would be to compare enrollment rates in 1998 between poor and non-poor across treatment and control villages. "
   ]
  },
  {
   "cell_type": "code",
   "execution_count": 205,
   "metadata": {
    "autoscroll": "json-false",
    "collapsed": false,
    "ein.tags": [
     "worksheet-0"
    ],
    "slideshow": {
     "slide_type": "-"
    }
   },
   "outputs": [
    {
     "data": {
      "text/html": [
       "<table class=\"simpletable\">\n",
       "<caption>OLS Regression Results</caption>\n",
       "<tr>\n",
       "  <th>Dep. Variable:</th>           <td>sc</td>        <th>  R-squared:         </th> <td>   0.274</td> \n",
       "</tr>\n",
       "<tr>\n",
       "  <th>Model:</th>                   <td>OLS</td>       <th>  Adj. R-squared:    </th> <td>   0.274</td> \n",
       "</tr>\n",
       "<tr>\n",
       "  <th>Method:</th>             <td>Least Squares</td>  <th>  F-statistic:       </th> <td>   1344.</td> \n",
       "</tr>\n",
       "<tr>\n",
       "  <th>Date:</th>             <td>Wed, 25 Jan 2017</td> <th>  Prob (F-statistic):</th>  <td>  0.00</td>  \n",
       "</tr>\n",
       "<tr>\n",
       "  <th>Time:</th>                 <td>21:24:03</td>     <th>  Log-Likelihood:    </th> <td> -9237.3</td> \n",
       "</tr>\n",
       "<tr>\n",
       "  <th>No. Observations:</th>      <td> 32097</td>      <th>  AIC:               </th> <td>1.849e+04</td>\n",
       "</tr>\n",
       "<tr>\n",
       "  <th>Df Residuals:</th>          <td> 32087</td>      <th>  BIC:               </th> <td>1.858e+04</td>\n",
       "</tr>\n",
       "<tr>\n",
       "  <th>Df Model:</th>              <td>     9</td>      <th>                     </th>     <td> </td>    \n",
       "</tr>\n",
       "<tr>\n",
       "  <th>Covariance Type:</th>      <td>nonrobust</td>    <th>                     </th>     <td> </td>    \n",
       "</tr>\n",
       "</table>\n",
       "<table class=\"simpletable\">\n",
       "<tr>\n",
       "               <td></td>                  <th>coef</th>     <th>std err</th>      <th>t</th>      <th>P>|t|</th> <th>[95.0% Conf. Int.]</th> \n",
       "</tr>\n",
       "<tr>\n",
       "  <th>Intercept</th>                   <td>    1.4816</td> <td>    0.012</td> <td>  122.903</td> <td> 0.000</td> <td>    1.458     1.505</td>\n",
       "</tr>\n",
       "<tr>\n",
       "  <th>progresa[T.basal]</th>           <td>    0.0250</td> <td>    0.010</td> <td>    2.583</td> <td> 0.010</td> <td>    0.006     0.044</td>\n",
       "</tr>\n",
       "<tr>\n",
       "  <th>poor[T.1]</th>                   <td>   -0.0211</td> <td>    0.008</td> <td>   -2.558</td> <td> 0.011</td> <td>   -0.037    -0.005</td>\n",
       "</tr>\n",
       "<tr>\n",
       "  <th>progresa[T.basal]:poor[T.1]</th> <td>    0.0094</td> <td>    0.010</td> <td>    0.894</td> <td> 0.371</td> <td>   -0.011     0.030</td>\n",
       "</tr>\n",
       "<tr>\n",
       "  <th>sex</th>                         <td>    0.0306</td> <td>    0.004</td> <td>    8.493</td> <td> 0.000</td> <td>    0.024     0.038</td>\n",
       "</tr>\n",
       "<tr>\n",
       "  <th>dist_sec</th>                    <td>   -0.0105</td> <td>    0.001</td> <td>  -12.741</td> <td> 0.000</td> <td>   -0.012    -0.009</td>\n",
       "</tr>\n",
       "<tr>\n",
       "  <th>min_dist</th>                    <td>    0.0003</td> <td> 5.92e-05</td> <td>    5.736</td> <td> 0.000</td> <td>    0.000     0.000</td>\n",
       "</tr>\n",
       "<tr>\n",
       "  <th>dist_cap</th>                    <td>    0.0003</td> <td> 3.28e-05</td> <td>    9.368</td> <td> 0.000</td> <td>    0.000     0.000</td>\n",
       "</tr>\n",
       "<tr>\n",
       "  <th>hohedu</th>                      <td>    0.0085</td> <td>    0.001</td> <td>   12.210</td> <td> 0.000</td> <td>    0.007     0.010</td>\n",
       "</tr>\n",
       "<tr>\n",
       "  <th>age</th>                         <td>   -0.0661</td> <td>    0.001</td> <td> -103.966</td> <td> 0.000</td> <td>   -0.067    -0.065</td>\n",
       "</tr>\n",
       "</table>\n",
       "<table class=\"simpletable\">\n",
       "<tr>\n",
       "  <th>Omnibus:</th>       <td>3179.660</td> <th>  Durbin-Watson:     </th> <td>   1.732</td>\n",
       "</tr>\n",
       "<tr>\n",
       "  <th>Prob(Omnibus):</th>  <td> 0.000</td>  <th>  Jarque-Bera (JB):  </th> <td>4231.906</td>\n",
       "</tr>\n",
       "<tr>\n",
       "  <th>Skew:</th>           <td>-0.888</td>  <th>  Prob(JB):          </th> <td>    0.00</td>\n",
       "</tr>\n",
       "<tr>\n",
       "  <th>Kurtosis:</th>       <td> 3.111</td>  <th>  Cond. No.          </th> <td>1.92e+03</td>\n",
       "</tr>\n",
       "</table>"
      ],
      "text/plain": [
       "<class 'statsmodels.iolib.summary.Summary'>\n",
       "\"\"\"\n",
       "                            OLS Regression Results                            \n",
       "==============================================================================\n",
       "Dep. Variable:                     sc   R-squared:                       0.274\n",
       "Model:                            OLS   Adj. R-squared:                  0.274\n",
       "Method:                 Least Squares   F-statistic:                     1344.\n",
       "Date:                Wed, 25 Jan 2017   Prob (F-statistic):               0.00\n",
       "Time:                        21:24:03   Log-Likelihood:                -9237.3\n",
       "No. Observations:               32097   AIC:                         1.849e+04\n",
       "Df Residuals:                   32087   BIC:                         1.858e+04\n",
       "Df Model:                           9                                         \n",
       "Covariance Type:            nonrobust                                         \n",
       "===============================================================================================\n",
       "                                  coef    std err          t      P>|t|      [95.0% Conf. Int.]\n",
       "-----------------------------------------------------------------------------------------------\n",
       "Intercept                       1.4816      0.012    122.903      0.000         1.458     1.505\n",
       "progresa[T.basal]               0.0250      0.010      2.583      0.010         0.006     0.044\n",
       "poor[T.1]                      -0.0211      0.008     -2.558      0.011        -0.037    -0.005\n",
       "progresa[T.basal]:poor[T.1]     0.0094      0.010      0.894      0.371        -0.011     0.030\n",
       "sex                             0.0306      0.004      8.493      0.000         0.024     0.038\n",
       "dist_sec                       -0.0105      0.001    -12.741      0.000        -0.012    -0.009\n",
       "min_dist                        0.0003   5.92e-05      5.736      0.000         0.000     0.000\n",
       "dist_cap                        0.0003   3.28e-05      9.368      0.000         0.000     0.000\n",
       "hohedu                          0.0085      0.001     12.210      0.000         0.007     0.010\n",
       "age                            -0.0661      0.001   -103.966      0.000        -0.067    -0.065\n",
       "==============================================================================\n",
       "Omnibus:                     3179.660   Durbin-Watson:                   1.732\n",
       "Prob(Omnibus):                  0.000   Jarque-Bera (JB):             4231.906\n",
       "Skew:                          -0.888   Prob(JB):                         0.00\n",
       "Kurtosis:                       3.111   Cond. No.                     1.92e+03\n",
       "==============================================================================\n",
       "\n",
       "Warnings:\n",
       "[1] Standard Errors assume that the covariance matrix of the errors is correctly specified.\n",
       "[2] The condition number is large, 1.92e+03. This might indicate that there are\n",
       "strong multicollinearity or other numerical problems.\n",
       "\"\"\""
      ]
     },
     "execution_count": 205,
     "metadata": {},
     "output_type": "execute_result"
    }
   ],
   "source": [
    "#Filtering for year 98\n",
    "progresa_df_filtered_98 = progresa_df[progresa_df['year'] == 98]\n",
    "\n",
    "#Regression with progresa, post, progresa*time(interaction) and 5 control variables\n",
    "lm_fit4 = ols(formula = 'sc ~ progresa + poor + progresa*poor + sex + dist_sec  + min_dist + dist_cap + hohedu + age', data=progresa_df_filtered_98).fit()\n",
    "\n",
    "#Summary\n",
    "lm_fit4.summary()"
   ]
  },
  {
   "cell_type": "markdown",
   "metadata": {},
   "source": [
    "1. How would we estimate this version of the treatment effects in a regression model? \n",
    "We firstly create a binary variable for poor or non-poor, which is necssary according to difference in difference approach, control variable has to be binary. Then adding a interaction term between progresa and poor, we get below resuls: \n",
    "The interaction between progresa:poor[T.1] is not statistically significant. Other variables like, 'Progresa' have a  coefficient of 0.0250 which signifies the impact of households recieving the progresa program benefits (treatment group) would result in the average enrollment rates increasing by 0.0250.\n",
    "'Poor' coefficient value is -0.0211 which implies that for the poor households would have lower average enrollment rates by 0.0211.  \n",
    "\n",
    "2. What is the counterfactual assumption underlying this regression?\n",
    "The counterfactual assumption underlying this regression model is that in the absence of treatment effect, the average enrollment rates across poor and non-poor households remains the same.\n",
    "\n",
    "3. How do these treatment effects compare to the estimates above?\n",
    "Comparing the treatment effects to above estimates we can see that both are slightly different. The p value for the interaction term is statistically insignificant and the coefficient for control variable \"poor\" in this case is negative. We might be observing above differences because only poor households are expected to be a part of the progresa program and not the non-poor households.\n",
    "\n",
    "4. Discuss some possible explanations for differences or similarities \n",
    "As discused above some of the differences are statistical insignificance of the interaction term and negative coefficient of poor variable, these differences can be explained through the reasoning that only poor households are expected to be a part of the progresa program and not the non-poor households."
   ]
  },
  {
   "cell_type": "markdown",
   "metadata": {
    "ein.tags": [
     "worksheet-0"
    ],
    "slideshow": {
     "slide_type": "-"
    }
   },
   "source": [
    "### Spillover effects\n",
    "\n",
    "Thus far, we have focused on the impact of PROGRESA on poor households. Repeat your analysis in 2.5, using a double-difference regression to estimate the impact of PROGRESA on non-poor households. In other words, compare the difference in enrollments between 1997 and 1998 for non-poor households in treatment villages with the difference in enrollments between 1997 and 1998 for non-poor households in control villages."
   ]
  },
  {
   "cell_type": "code",
   "execution_count": 208,
   "metadata": {
    "autoscroll": "json-false",
    "collapsed": false,
    "ein.tags": [
     "worksheet-0"
    ],
    "slideshow": {
     "slide_type": "-"
    }
   },
   "outputs": [
    {
     "data": {
      "text/html": [
       "<table class=\"simpletable\">\n",
       "<caption>OLS Regression Results</caption>\n",
       "<tr>\n",
       "  <th>Dep. Variable:</th>           <td>sc</td>        <th>  R-squared:         </th> <td>   0.292</td>\n",
       "</tr>\n",
       "<tr>\n",
       "  <th>Model:</th>                   <td>OLS</td>       <th>  Adj. R-squared:    </th> <td>   0.291</td>\n",
       "</tr>\n",
       "<tr>\n",
       "  <th>Method:</th>             <td>Least Squares</td>  <th>  F-statistic:       </th> <td>   428.9</td>\n",
       "</tr>\n",
       "<tr>\n",
       "  <th>Date:</th>             <td>Thu, 26 Jan 2017</td> <th>  Prob (F-statistic):</th>  <td>  0.00</td> \n",
       "</tr>\n",
       "<tr>\n",
       "  <th>Time:</th>                 <td>12:31:13</td>     <th>  Log-Likelihood:    </th> <td> -3659.7</td>\n",
       "</tr>\n",
       "<tr>\n",
       "  <th>No. Observations:</th>      <td> 10423</td>      <th>  AIC:               </th> <td>   7341.</td>\n",
       "</tr>\n",
       "<tr>\n",
       "  <th>Df Residuals:</th>          <td> 10412</td>      <th>  BIC:               </th> <td>   7421.</td>\n",
       "</tr>\n",
       "<tr>\n",
       "  <th>Df Model:</th>              <td>    10</td>      <th>                     </th>     <td> </td>   \n",
       "</tr>\n",
       "<tr>\n",
       "  <th>Covariance Type:</th>      <td>nonrobust</td>    <th>                     </th>     <td> </td>   \n",
       "</tr>\n",
       "</table>\n",
       "<table class=\"simpletable\">\n",
       "<tr>\n",
       "             <td></td>               <th>coef</th>     <th>std err</th>      <th>t</th>      <th>P>|t|</th> <th>[95.0% Conf. Int.]</th> \n",
       "</tr>\n",
       "<tr>\n",
       "  <th>Intercept</th>              <td>    1.4739</td> <td>    0.024</td> <td>   61.795</td> <td> 0.000</td> <td>    1.427     1.521</td>\n",
       "</tr>\n",
       "<tr>\n",
       "  <th>progresa[T.basal]</th>      <td>    0.0249</td> <td>    0.009</td> <td>    2.692</td> <td> 0.007</td> <td>    0.007     0.043</td>\n",
       "</tr>\n",
       "<tr>\n",
       "  <th>time</th>                   <td>    0.0387</td> <td>    0.011</td> <td>    3.600</td> <td> 0.000</td> <td>    0.018     0.060</td>\n",
       "</tr>\n",
       "<tr>\n",
       "  <th>progresa[T.basal]:time</th> <td>   -0.0027</td> <td>    0.014</td> <td>   -0.194</td> <td> 0.846</td> <td>   -0.030     0.024</td>\n",
       "</tr>\n",
       "<tr>\n",
       "  <th>sex</th>                    <td>    0.0310</td> <td>    0.007</td> <td>    4.595</td> <td> 0.000</td> <td>    0.018     0.044</td>\n",
       "</tr>\n",
       "<tr>\n",
       "  <th>dist_sec</th>               <td>   -0.0154</td> <td>    0.002</td> <td>   -8.730</td> <td> 0.000</td> <td>   -0.019    -0.012</td>\n",
       "</tr>\n",
       "<tr>\n",
       "  <th>min_dist</th>               <td>-7.307e-05</td> <td>    0.000</td> <td>   -0.632</td> <td> 0.527</td> <td>   -0.000     0.000</td>\n",
       "</tr>\n",
       "<tr>\n",
       "  <th>dist_cap</th>               <td>    0.0006</td> <td> 7.47e-05</td> <td>    8.638</td> <td> 0.000</td> <td>    0.000     0.001</td>\n",
       "</tr>\n",
       "<tr>\n",
       "  <th>hohedu</th>                 <td>    0.0091</td> <td>    0.001</td> <td>    7.645</td> <td> 0.000</td> <td>    0.007     0.011</td>\n",
       "</tr>\n",
       "<tr>\n",
       "  <th>age</th>                    <td>   -0.0685</td> <td>    0.001</td> <td>  -60.095</td> <td> 0.000</td> <td>   -0.071    -0.066</td>\n",
       "</tr>\n",
       "<tr>\n",
       "  <th>hohage</th>                 <td> 6.824e-05</td> <td>    0.000</td> <td>    0.203</td> <td> 0.839</td> <td>   -0.001     0.001</td>\n",
       "</tr>\n",
       "</table>\n",
       "<table class=\"simpletable\">\n",
       "<tr>\n",
       "  <th>Omnibus:</th>       <td>845.143</td> <th>  Durbin-Watson:     </th> <td>   1.504</td> \n",
       "</tr>\n",
       "<tr>\n",
       "  <th>Prob(Omnibus):</th> <td> 0.000</td>  <th>  Jarque-Bera (JB):  </th> <td> 802.020</td> \n",
       "</tr>\n",
       "<tr>\n",
       "  <th>Skew:</th>          <td>-0.618</td>  <th>  Prob(JB):          </th> <td>6.98e-175</td>\n",
       "</tr>\n",
       "<tr>\n",
       "  <th>Kurtosis:</th>      <td> 2.437</td>  <th>  Cond. No.          </th> <td>1.27e+03</td> \n",
       "</tr>\n",
       "</table>"
      ],
      "text/plain": [
       "<class 'statsmodels.iolib.summary.Summary'>\n",
       "\"\"\"\n",
       "                            OLS Regression Results                            \n",
       "==============================================================================\n",
       "Dep. Variable:                     sc   R-squared:                       0.292\n",
       "Model:                            OLS   Adj. R-squared:                  0.291\n",
       "Method:                 Least Squares   F-statistic:                     428.9\n",
       "Date:                Thu, 26 Jan 2017   Prob (F-statistic):               0.00\n",
       "Time:                        12:31:13   Log-Likelihood:                -3659.7\n",
       "No. Observations:               10423   AIC:                             7341.\n",
       "Df Residuals:                   10412   BIC:                             7421.\n",
       "Df Model:                          10                                         \n",
       "Covariance Type:            nonrobust                                         \n",
       "==========================================================================================\n",
       "                             coef    std err          t      P>|t|      [95.0% Conf. Int.]\n",
       "------------------------------------------------------------------------------------------\n",
       "Intercept                  1.4739      0.024     61.795      0.000         1.427     1.521\n",
       "progresa[T.basal]          0.0249      0.009      2.692      0.007         0.007     0.043\n",
       "time                       0.0387      0.011      3.600      0.000         0.018     0.060\n",
       "progresa[T.basal]:time    -0.0027      0.014     -0.194      0.846        -0.030     0.024\n",
       "sex                        0.0310      0.007      4.595      0.000         0.018     0.044\n",
       "dist_sec                  -0.0154      0.002     -8.730      0.000        -0.019    -0.012\n",
       "min_dist               -7.307e-05      0.000     -0.632      0.527        -0.000     0.000\n",
       "dist_cap                   0.0006   7.47e-05      8.638      0.000         0.000     0.001\n",
       "hohedu                     0.0091      0.001      7.645      0.000         0.007     0.011\n",
       "age                       -0.0685      0.001    -60.095      0.000        -0.071    -0.066\n",
       "hohage                  6.824e-05      0.000      0.203      0.839        -0.001     0.001\n",
       "==============================================================================\n",
       "Omnibus:                      845.143   Durbin-Watson:                   1.504\n",
       "Prob(Omnibus):                  0.000   Jarque-Bera (JB):              802.020\n",
       "Skew:                          -0.618   Prob(JB):                    6.98e-175\n",
       "Kurtosis:                       2.437   Cond. No.                     1.27e+03\n",
       "==============================================================================\n",
       "\n",
       "Warnings:\n",
       "[1] Standard Errors assume that the covariance matrix of the errors is correctly specified.\n",
       "[2] The condition number is large, 1.27e+03. This might indicate that there are\n",
       "strong multicollinearity or other numerical problems.\n",
       "\"\"\""
      ]
     },
     "execution_count": 208,
     "metadata": {},
     "output_type": "execute_result"
    }
   ],
   "source": [
    "#Filtering for non-poor\n",
    "progresa_filtered_nonpoor = progresa_df[progresa_df['poor'] == 0]\n",
    "##Fitting a model\n",
    "lm_fit5 = ols(formula = 'sc ~ progresa + time + progresa*time + sex + dist_sec  + min_dist + dist_cap + hohedu + age + hohage', data=progresa_filtered_nonpoor).fit()\n",
    "#Summary of the model\n",
    "lm_fit5.summary()"
   ]
  },
  {
   "cell_type": "markdown",
   "metadata": {},
   "source": [
    "A: As PROGRESA was initiated to enroll more poor kids into education, I can think of only corruptive practices which might have led to non-poor kids to be benefited. If not for corruuptive practices, I think Progresa might have impacted non-poor households by inducing a thinking of since many children are studying, we should also send our kids.\n",
    "\n",
    "B: Yes, there is an average increase in enrollment of 0.0387, which is considerable impact.\n",
    "\n",
    "C: The assumption being used here is that, without progresa this kind of impact couldnt have been seen from anyother factor."
   ]
  }
 ],
 "metadata": {
  "anaconda-cloud": {},
  "kernelspec": {
   "display_name": "Python [default]",
   "language": "python",
   "name": "python3"
  },
  "language_info": {
   "codemirror_mode": {
    "name": "ipython",
    "version": 3
   },
   "file_extension": ".py",
   "mimetype": "text/x-python",
   "name": "python",
   "nbconvert_exporter": "python",
   "pygments_lexer": "ipython3",
   "version": "3.5.2"
  },
  "name": "INFX574-PS2.ipynb"
 },
 "nbformat": 4,
 "nbformat_minor": 2
}
